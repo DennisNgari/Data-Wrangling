{
 "cells": [
  {
   "cell_type": "markdown",
   "metadata": {},
   "source": [
    "# <u>Health Analysis</u>"
   ]
  },
  {
   "cell_type": "markdown",
   "metadata": {},
   "source": [
    "### Import the Necessary Libraries"
   ]
  },
  {
   "cell_type": "code",
   "execution_count": 1,
   "metadata": {},
   "outputs": [],
   "source": [
    "import pandas as pd\n",
    "from datetime import datetime\n",
    "today = datetime.today()"
   ]
  },
  {
   "cell_type": "code",
   "execution_count": 2,
   "metadata": {},
   "outputs": [],
   "source": [
    "# Load the dataset\n",
    "df1 = pd.read_excel(\"Assessment_Data_Set.xlsx\", \"Dataset\")\n",
    "df2 = pd.read_excel(\"Assessment_Data_Set.xlsx\", \"Patient Details\")"
   ]
  },
  {
   "cell_type": "code",
   "execution_count": 3,
   "metadata": {
    "scrolled": true
   },
   "outputs": [
    {
     "data": {
      "text/html": [
       "<div>\n",
       "<style scoped>\n",
       "    .dataframe tbody tr th:only-of-type {\n",
       "        vertical-align: middle;\n",
       "    }\n",
       "\n",
       "    .dataframe tbody tr th {\n",
       "        vertical-align: top;\n",
       "    }\n",
       "\n",
       "    .dataframe thead th {\n",
       "        text-align: right;\n",
       "    }\n",
       "</style>\n",
       "<table border=\"1\" class=\"dataframe\">\n",
       "  <thead>\n",
       "    <tr style=\"text-align: right;\">\n",
       "      <th></th>\n",
       "      <th>VisitDate</th>\n",
       "      <th>PatientId</th>\n",
       "      <th>Location</th>\n",
       "      <th>Payor</th>\n",
       "      <th>InvoiceTotal</th>\n",
       "    </tr>\n",
       "  </thead>\n",
       "  <tbody>\n",
       "    <tr>\n",
       "      <th>0</th>\n",
       "      <td>2019-07-21</td>\n",
       "      <td>PAT24869</td>\n",
       "      <td>Kahawa West</td>\n",
       "      <td>Cash</td>\n",
       "      <td>1350.0</td>\n",
       "    </tr>\n",
       "    <tr>\n",
       "      <th>1</th>\n",
       "      <td>2019-05-28</td>\n",
       "      <td>PAT17185</td>\n",
       "      <td>Embakasi</td>\n",
       "      <td>Cash</td>\n",
       "      <td>600.0</td>\n",
       "    </tr>\n",
       "    <tr>\n",
       "      <th>2</th>\n",
       "      <td>2019-12-29</td>\n",
       "      <td>PAT19895</td>\n",
       "      <td>Zimmerman</td>\n",
       "      <td>Cash</td>\n",
       "      <td>140.0</td>\n",
       "    </tr>\n",
       "    <tr>\n",
       "      <th>3</th>\n",
       "      <td>2019-07-03</td>\n",
       "      <td>PAT20790</td>\n",
       "      <td>Pipeline</td>\n",
       "      <td>Cash</td>\n",
       "      <td>325.0</td>\n",
       "    </tr>\n",
       "    <tr>\n",
       "      <th>4</th>\n",
       "      <td>2019-09-22</td>\n",
       "      <td>PAT12119</td>\n",
       "      <td>Huruma</td>\n",
       "      <td>Cash</td>\n",
       "      <td>300.0</td>\n",
       "    </tr>\n",
       "  </tbody>\n",
       "</table>\n",
       "</div>"
      ],
      "text/plain": [
       "   VisitDate PatientId     Location Payor  InvoiceTotal\n",
       "0 2019-07-21  PAT24869  Kahawa West  Cash        1350.0\n",
       "1 2019-05-28  PAT17185     Embakasi  Cash         600.0\n",
       "2 2019-12-29  PAT19895    Zimmerman  Cash         140.0\n",
       "3 2019-07-03  PAT20790     Pipeline  Cash         325.0\n",
       "4 2019-09-22  PAT12119       Huruma  Cash         300.0"
      ]
     },
     "execution_count": 3,
     "metadata": {},
     "output_type": "execute_result"
    }
   ],
   "source": [
    "df1.head()"
   ]
  },
  {
   "cell_type": "code",
   "execution_count": 4,
   "metadata": {},
   "outputs": [
    {
     "data": {
      "text/html": [
       "<div>\n",
       "<style scoped>\n",
       "    .dataframe tbody tr th:only-of-type {\n",
       "        vertical-align: middle;\n",
       "    }\n",
       "\n",
       "    .dataframe tbody tr th {\n",
       "        vertical-align: top;\n",
       "    }\n",
       "\n",
       "    .dataframe thead th {\n",
       "        text-align: right;\n",
       "    }\n",
       "</style>\n",
       "<table border=\"1\" class=\"dataframe\">\n",
       "  <thead>\n",
       "    <tr style=\"text-align: right;\">\n",
       "      <th></th>\n",
       "      <th>PatientId</th>\n",
       "      <th>DateOfBirth</th>\n",
       "      <th>Gender</th>\n",
       "    </tr>\n",
       "  </thead>\n",
       "  <tbody>\n",
       "    <tr>\n",
       "      <th>0</th>\n",
       "      <td>PAT16851</td>\n",
       "      <td>2012-07-02</td>\n",
       "      <td>Male</td>\n",
       "    </tr>\n",
       "    <tr>\n",
       "      <th>1</th>\n",
       "      <td>PAT21149</td>\n",
       "      <td>2020-05-01</td>\n",
       "      <td>Male</td>\n",
       "    </tr>\n",
       "    <tr>\n",
       "      <th>2</th>\n",
       "      <td>PAT12467</td>\n",
       "      <td>2009-12-25</td>\n",
       "      <td>Female</td>\n",
       "    </tr>\n",
       "    <tr>\n",
       "      <th>3</th>\n",
       "      <td>PAT23784</td>\n",
       "      <td>2011-11-26</td>\n",
       "      <td>Male</td>\n",
       "    </tr>\n",
       "    <tr>\n",
       "      <th>4</th>\n",
       "      <td>PAT16344</td>\n",
       "      <td>2020-06-25</td>\n",
       "      <td>Male</td>\n",
       "    </tr>\n",
       "  </tbody>\n",
       "</table>\n",
       "</div>"
      ],
      "text/plain": [
       "  PatientId DateOfBirth  Gender\n",
       "0  PAT16851  2012-07-02    Male\n",
       "1  PAT21149  2020-05-01    Male\n",
       "2  PAT12467  2009-12-25  Female\n",
       "3  PAT23784  2011-11-26    Male\n",
       "4  PAT16344  2020-06-25    Male"
      ]
     },
     "execution_count": 4,
     "metadata": {},
     "output_type": "execute_result"
    }
   ],
   "source": [
    "df2.head()"
   ]
  },
  {
   "cell_type": "markdown",
   "metadata": {},
   "source": [
    "### Join the two Dataframes."
   ]
  },
  {
   "cell_type": "code",
   "execution_count": 5,
   "metadata": {},
   "outputs": [
    {
     "data": {
      "text/plain": [
       "\"\\ndf1['Gender'] = df1.PatientId.map(df2.set_index('PatientId')['Gender'].to_dict())\\n\""
      ]
     },
     "execution_count": 5,
     "metadata": {},
     "output_type": "execute_result"
    }
   ],
   "source": [
    "# Add the Gender, PatientId and DateOfBirth\n",
    "df1 = df1.join(df2.set_index(\"PatientId\"), on=\"PatientId\")\n",
    "\n",
    "# Use join as shown below\n",
    "'''\n",
    "df1 = df1.set_index('PatientId').join(df2.set_index('PatientId'))\n",
    "'''\n",
    "# you can also use map as shown below\n",
    "\"\"\"\n",
    "df1['Gender'] = df1.PatientId.map(df2.set_index('PatientId')['Gender'].to_dict())\n",
    "\"\"\""
   ]
  },
  {
   "cell_type": "markdown",
   "metadata": {},
   "source": [
    "### Calculate the Age"
   ]
  },
  {
   "cell_type": "code",
   "execution_count": 6,
   "metadata": {},
   "outputs": [],
   "source": [
    "# Convert the date into pandas datetime\n",
    "df1[\"DateOfBirth\"] = pd.to_datetime(df1.DateOfBirth)"
   ]
  },
  {
   "cell_type": "code",
   "execution_count": 7,
   "metadata": {},
   "outputs": [],
   "source": [
    "df1['Age'] = df1['DateOfBirth'].apply(lambda x:\n",
    "                                today.year - x.year -\n",
    "                                ((today.month, today.day) < (x.month, x.day)))"
   ]
  },
  {
   "cell_type": "code",
   "execution_count": 8,
   "metadata": {},
   "outputs": [
    {
     "data": {
      "text/html": [
       "<div>\n",
       "<style scoped>\n",
       "    .dataframe tbody tr th:only-of-type {\n",
       "        vertical-align: middle;\n",
       "    }\n",
       "\n",
       "    .dataframe tbody tr th {\n",
       "        vertical-align: top;\n",
       "    }\n",
       "\n",
       "    .dataframe thead th {\n",
       "        text-align: right;\n",
       "    }\n",
       "</style>\n",
       "<table border=\"1\" class=\"dataframe\">\n",
       "  <thead>\n",
       "    <tr style=\"text-align: right;\">\n",
       "      <th></th>\n",
       "      <th>VisitDate</th>\n",
       "      <th>PatientId</th>\n",
       "      <th>Location</th>\n",
       "      <th>Payor</th>\n",
       "      <th>InvoiceTotal</th>\n",
       "      <th>DateOfBirth</th>\n",
       "      <th>Gender</th>\n",
       "      <th>Age</th>\n",
       "    </tr>\n",
       "  </thead>\n",
       "  <tbody>\n",
       "    <tr>\n",
       "      <th>0</th>\n",
       "      <td>2019-07-21</td>\n",
       "      <td>PAT24869</td>\n",
       "      <td>Kahawa West</td>\n",
       "      <td>Cash</td>\n",
       "      <td>1350.0</td>\n",
       "      <td>2019-07-21</td>\n",
       "      <td>Male</td>\n",
       "      <td>1</td>\n",
       "    </tr>\n",
       "    <tr>\n",
       "      <th>1</th>\n",
       "      <td>2019-05-28</td>\n",
       "      <td>PAT17185</td>\n",
       "      <td>Embakasi</td>\n",
       "      <td>Cash</td>\n",
       "      <td>600.0</td>\n",
       "      <td>2019-05-28</td>\n",
       "      <td>Female</td>\n",
       "      <td>1</td>\n",
       "    </tr>\n",
       "    <tr>\n",
       "      <th>2</th>\n",
       "      <td>2019-12-29</td>\n",
       "      <td>PAT19895</td>\n",
       "      <td>Zimmerman</td>\n",
       "      <td>Cash</td>\n",
       "      <td>140.0</td>\n",
       "      <td>2019-12-29</td>\n",
       "      <td>Female</td>\n",
       "      <td>1</td>\n",
       "    </tr>\n",
       "    <tr>\n",
       "      <th>3</th>\n",
       "      <td>2019-07-03</td>\n",
       "      <td>PAT20790</td>\n",
       "      <td>Pipeline</td>\n",
       "      <td>Cash</td>\n",
       "      <td>325.0</td>\n",
       "      <td>2019-07-03</td>\n",
       "      <td>Male</td>\n",
       "      <td>1</td>\n",
       "    </tr>\n",
       "    <tr>\n",
       "      <th>4</th>\n",
       "      <td>2019-09-22</td>\n",
       "      <td>PAT12119</td>\n",
       "      <td>Huruma</td>\n",
       "      <td>Cash</td>\n",
       "      <td>300.0</td>\n",
       "      <td>2019-09-22</td>\n",
       "      <td>Male</td>\n",
       "      <td>1</td>\n",
       "    </tr>\n",
       "    <tr>\n",
       "      <th>5</th>\n",
       "      <td>2019-12-25</td>\n",
       "      <td>PAT19868</td>\n",
       "      <td>Githurai 45</td>\n",
       "      <td>Cash</td>\n",
       "      <td>0.0</td>\n",
       "      <td>2019-12-25</td>\n",
       "      <td>Female</td>\n",
       "      <td>1</td>\n",
       "    </tr>\n",
       "    <tr>\n",
       "      <th>6</th>\n",
       "      <td>2019-04-06</td>\n",
       "      <td>PAT18541</td>\n",
       "      <td>Kayole</td>\n",
       "      <td>Cash</td>\n",
       "      <td>50.0</td>\n",
       "      <td>2019-04-06</td>\n",
       "      <td>Male</td>\n",
       "      <td>1</td>\n",
       "    </tr>\n",
       "    <tr>\n",
       "      <th>7</th>\n",
       "      <td>2019-02-22</td>\n",
       "      <td>PAT14342</td>\n",
       "      <td>Zimmerman</td>\n",
       "      <td>Cash</td>\n",
       "      <td>630.0</td>\n",
       "      <td>2019-02-22</td>\n",
       "      <td>Female</td>\n",
       "      <td>1</td>\n",
       "    </tr>\n",
       "    <tr>\n",
       "      <th>8</th>\n",
       "      <td>2019-01-23</td>\n",
       "      <td>PAT16627</td>\n",
       "      <td>Embakasi</td>\n",
       "      <td>Cash</td>\n",
       "      <td>1200.0</td>\n",
       "      <td>2019-01-23</td>\n",
       "      <td>Female</td>\n",
       "      <td>2</td>\n",
       "    </tr>\n",
       "    <tr>\n",
       "      <th>9</th>\n",
       "      <td>2019-09-22</td>\n",
       "      <td>PAT21352</td>\n",
       "      <td>Embakasi</td>\n",
       "      <td>Cash</td>\n",
       "      <td>575.0</td>\n",
       "      <td>2019-09-22</td>\n",
       "      <td>Female</td>\n",
       "      <td>1</td>\n",
       "    </tr>\n",
       "  </tbody>\n",
       "</table>\n",
       "</div>"
      ],
      "text/plain": [
       "   VisitDate PatientId     Location Payor  InvoiceTotal DateOfBirth  Gender  \\\n",
       "0 2019-07-21  PAT24869  Kahawa West  Cash        1350.0  2019-07-21    Male   \n",
       "1 2019-05-28  PAT17185     Embakasi  Cash         600.0  2019-05-28  Female   \n",
       "2 2019-12-29  PAT19895    Zimmerman  Cash         140.0  2019-12-29  Female   \n",
       "3 2019-07-03  PAT20790     Pipeline  Cash         325.0  2019-07-03    Male   \n",
       "4 2019-09-22  PAT12119       Huruma  Cash         300.0  2019-09-22    Male   \n",
       "5 2019-12-25  PAT19868  Githurai 45  Cash           0.0  2019-12-25  Female   \n",
       "6 2019-04-06  PAT18541       Kayole  Cash          50.0  2019-04-06    Male   \n",
       "7 2019-02-22  PAT14342    Zimmerman  Cash         630.0  2019-02-22  Female   \n",
       "8 2019-01-23  PAT16627     Embakasi  Cash        1200.0  2019-01-23  Female   \n",
       "9 2019-09-22  PAT21352     Embakasi  Cash         575.0  2019-09-22  Female   \n",
       "\n",
       "   Age  \n",
       "0    1  \n",
       "1    1  \n",
       "2    1  \n",
       "3    1  \n",
       "4    1  \n",
       "5    1  \n",
       "6    1  \n",
       "7    1  \n",
       "8    2  \n",
       "9    1  "
      ]
     },
     "execution_count": 8,
     "metadata": {},
     "output_type": "execute_result"
    }
   ],
   "source": [
    "df1.head(10)"
   ]
  },
  {
   "cell_type": "markdown",
   "metadata": {},
   "source": [
    "## Qn. For cash visits, what is the average age of female patients who visited between the start of February and the end of April in 2019? "
   ]
  },
  {
   "cell_type": "markdown",
   "metadata": {},
   "source": [
    "##### Filter to get the cash Payments and Female Gender"
   ]
  },
  {
   "cell_type": "code",
   "execution_count": 9,
   "metadata": {},
   "outputs": [],
   "source": [
    "cash_payments_by_females = df1[(df1.Payor == \"Cash\") & (df1.Gender == \"Female\")]"
   ]
  },
  {
   "cell_type": "code",
   "execution_count": 10,
   "metadata": {},
   "outputs": [
    {
     "data": {
      "text/plain": [
       "33045"
      ]
     },
     "execution_count": 10,
     "metadata": {},
     "output_type": "execute_result"
    }
   ],
   "source": [
    "len(cash_payments_by_females)"
   ]
  },
  {
   "cell_type": "markdown",
   "metadata": {},
   "source": [
    "##### Drop Duplicate PatientIds to only get the unique Patients."
   ]
  },
  {
   "cell_type": "code",
   "execution_count": 11,
   "metadata": {},
   "outputs": [],
   "source": [
    "females = cash_payments_by_females.drop_duplicates(subset=['PatientId'], keep='first')"
   ]
  },
  {
   "cell_type": "code",
   "execution_count": 12,
   "metadata": {},
   "outputs": [
    {
     "data": {
      "text/plain": [
       "7439"
      ]
     },
     "execution_count": 12,
     "metadata": {},
     "output_type": "execute_result"
    }
   ],
   "source": [
    "len(females)"
   ]
  },
  {
   "cell_type": "markdown",
   "metadata": {},
   "source": [
    "##### Filter to get the dates between Feb and April"
   ]
  },
  {
   "cell_type": "code",
   "execution_count": 13,
   "metadata": {},
   "outputs": [],
   "source": [
    "females = females[(females['VisitDate'] >= '2019-02-01') \n",
    "                                  & (females['VisitDate'] <= '2019-04-30')]"
   ]
  },
  {
   "cell_type": "code",
   "execution_count": 14,
   "metadata": {},
   "outputs": [
    {
     "data": {
      "text/html": [
       "<div>\n",
       "<style scoped>\n",
       "    .dataframe tbody tr th:only-of-type {\n",
       "        vertical-align: middle;\n",
       "    }\n",
       "\n",
       "    .dataframe tbody tr th {\n",
       "        vertical-align: top;\n",
       "    }\n",
       "\n",
       "    .dataframe thead th {\n",
       "        text-align: right;\n",
       "    }\n",
       "</style>\n",
       "<table border=\"1\" class=\"dataframe\">\n",
       "  <thead>\n",
       "    <tr style=\"text-align: right;\">\n",
       "      <th></th>\n",
       "      <th>InvoiceTotal</th>\n",
       "      <th>Age</th>\n",
       "    </tr>\n",
       "  </thead>\n",
       "  <tbody>\n",
       "    <tr>\n",
       "      <th>count</th>\n",
       "      <td>3386.000000</td>\n",
       "      <td>3386.000000</td>\n",
       "    </tr>\n",
       "    <tr>\n",
       "      <th>mean</th>\n",
       "      <td>610.944194</td>\n",
       "      <td>22.554932</td>\n",
       "    </tr>\n",
       "    <tr>\n",
       "      <th>std</th>\n",
       "      <td>696.009271</td>\n",
       "      <td>17.973740</td>\n",
       "    </tr>\n",
       "    <tr>\n",
       "      <th>min</th>\n",
       "      <td>0.000000</td>\n",
       "      <td>1.000000</td>\n",
       "    </tr>\n",
       "    <tr>\n",
       "      <th>25%</th>\n",
       "      <td>130.000000</td>\n",
       "      <td>9.000000</td>\n",
       "    </tr>\n",
       "    <tr>\n",
       "      <th>50%</th>\n",
       "      <td>350.000000</td>\n",
       "      <td>17.000000</td>\n",
       "    </tr>\n",
       "    <tr>\n",
       "      <th>75%</th>\n",
       "      <td>870.000000</td>\n",
       "      <td>33.000000</td>\n",
       "    </tr>\n",
       "    <tr>\n",
       "      <th>max</th>\n",
       "      <td>8800.000000</td>\n",
       "      <td>84.000000</td>\n",
       "    </tr>\n",
       "  </tbody>\n",
       "</table>\n",
       "</div>"
      ],
      "text/plain": [
       "       InvoiceTotal          Age\n",
       "count   3386.000000  3386.000000\n",
       "mean     610.944194    22.554932\n",
       "std      696.009271    17.973740\n",
       "min        0.000000     1.000000\n",
       "25%      130.000000     9.000000\n",
       "50%      350.000000    17.000000\n",
       "75%      870.000000    33.000000\n",
       "max     8800.000000    84.000000"
      ]
     },
     "execution_count": 14,
     "metadata": {},
     "output_type": "execute_result"
    }
   ],
   "source": [
    "females.describe()"
   ]
  },
  {
   "cell_type": "markdown",
   "metadata": {},
   "source": [
    "The mean age is: 22.55"
   ]
  },
  {
   "cell_type": "markdown",
   "metadata": {},
   "source": [
    "### Qn. What is the total cost to Penda Health of all cash visits by males in October 2019? Assume an average gross margin of 45% per visit."
   ]
  },
  {
   "cell_type": "markdown",
   "metadata": {},
   "source": [
    "Gross margin is a company's net sales revenue minus its cost of goods sold (COGS). In other words, it is the sales revenue a company retains after incurring the direct costs associated with producing the goods it sells, and the services it provides."
   ]
  },
  {
   "cell_type": "markdown",
   "metadata": {},
   "source": [
    "##### Filter cash visits by Males"
   ]
  },
  {
   "cell_type": "code",
   "execution_count": 15,
   "metadata": {},
   "outputs": [],
   "source": [
    "cash_payments_by_male = df1[(df1.Payor == \"Cash\") & (df1.Gender == \"Male\")]"
   ]
  },
  {
   "cell_type": "markdown",
   "metadata": {},
   "source": [
    "##### Filter to get the October data"
   ]
  },
  {
   "cell_type": "code",
   "execution_count": 16,
   "metadata": {},
   "outputs": [],
   "source": [
    "males = cash_payments_by_male[(cash_payments_by_male['VisitDate'] >= '2019-10-01') \n",
    "                              & (cash_payments_by_male['VisitDate'] <= '2019-10-31')]"
   ]
  },
  {
   "cell_type": "code",
   "execution_count": 17,
   "metadata": {},
   "outputs": [
    {
     "data": {
      "text/html": [
       "<div>\n",
       "<style scoped>\n",
       "    .dataframe tbody tr th:only-of-type {\n",
       "        vertical-align: middle;\n",
       "    }\n",
       "\n",
       "    .dataframe tbody tr th {\n",
       "        vertical-align: top;\n",
       "    }\n",
       "\n",
       "    .dataframe thead th {\n",
       "        text-align: right;\n",
       "    }\n",
       "</style>\n",
       "<table border=\"1\" class=\"dataframe\">\n",
       "  <thead>\n",
       "    <tr style=\"text-align: right;\">\n",
       "      <th></th>\n",
       "      <th>VisitDate</th>\n",
       "      <th>PatientId</th>\n",
       "      <th>Location</th>\n",
       "      <th>Payor</th>\n",
       "      <th>InvoiceTotal</th>\n",
       "      <th>DateOfBirth</th>\n",
       "      <th>Gender</th>\n",
       "      <th>Age</th>\n",
       "    </tr>\n",
       "  </thead>\n",
       "  <tbody>\n",
       "    <tr>\n",
       "      <th>153</th>\n",
       "      <td>2019-10-30</td>\n",
       "      <td>PAT15909</td>\n",
       "      <td>Embakasi</td>\n",
       "      <td>Cash</td>\n",
       "      <td>1000.0</td>\n",
       "      <td>2019-10-17</td>\n",
       "      <td>Male</td>\n",
       "      <td>1</td>\n",
       "    </tr>\n",
       "    <tr>\n",
       "      <th>165</th>\n",
       "      <td>2019-10-15</td>\n",
       "      <td>PAT13034</td>\n",
       "      <td>Zimmerman</td>\n",
       "      <td>Cash</td>\n",
       "      <td>200.0</td>\n",
       "      <td>2019-09-29</td>\n",
       "      <td>Male</td>\n",
       "      <td>1</td>\n",
       "    </tr>\n",
       "    <tr>\n",
       "      <th>180</th>\n",
       "      <td>2019-10-12</td>\n",
       "      <td>PAT22765</td>\n",
       "      <td>Kangemi</td>\n",
       "      <td>Cash</td>\n",
       "      <td>0.0</td>\n",
       "      <td>2019-09-25</td>\n",
       "      <td>Male</td>\n",
       "      <td>1</td>\n",
       "    </tr>\n",
       "    <tr>\n",
       "      <th>218</th>\n",
       "      <td>2019-10-05</td>\n",
       "      <td>PAT21608</td>\n",
       "      <td>Zimmerman</td>\n",
       "      <td>Cash</td>\n",
       "      <td>1280.0</td>\n",
       "      <td>2019-09-14</td>\n",
       "      <td>Male</td>\n",
       "      <td>1</td>\n",
       "    </tr>\n",
       "    <tr>\n",
       "      <th>227</th>\n",
       "      <td>2019-10-28</td>\n",
       "      <td>PAT20982</td>\n",
       "      <td>Umoja</td>\n",
       "      <td>Cash</td>\n",
       "      <td>200.0</td>\n",
       "      <td>2019-10-06</td>\n",
       "      <td>Male</td>\n",
       "      <td>1</td>\n",
       "    </tr>\n",
       "  </tbody>\n",
       "</table>\n",
       "</div>"
      ],
      "text/plain": [
       "     VisitDate PatientId   Location Payor  InvoiceTotal DateOfBirth Gender  \\\n",
       "153 2019-10-30  PAT15909   Embakasi  Cash        1000.0  2019-10-17   Male   \n",
       "165 2019-10-15  PAT13034  Zimmerman  Cash         200.0  2019-09-29   Male   \n",
       "180 2019-10-12  PAT22765    Kangemi  Cash           0.0  2019-09-25   Male   \n",
       "218 2019-10-05  PAT21608  Zimmerman  Cash        1280.0  2019-09-14   Male   \n",
       "227 2019-10-28  PAT20982      Umoja  Cash         200.0  2019-10-06   Male   \n",
       "\n",
       "     Age  \n",
       "153    1  \n",
       "165    1  \n",
       "180    1  \n",
       "218    1  \n",
       "227    1  "
      ]
     },
     "execution_count": 17,
     "metadata": {},
     "output_type": "execute_result"
    }
   ],
   "source": [
    "males.head()"
   ]
  },
  {
   "cell_type": "code",
   "execution_count": 18,
   "metadata": {},
   "outputs": [
    {
     "data": {
      "text/plain": [
       "1513065.5"
      ]
     },
     "execution_count": 18,
     "metadata": {},
     "output_type": "execute_result"
    }
   ],
   "source": [
    "males.InvoiceTotal.sum()"
   ]
  },
  {
   "cell_type": "code",
   "execution_count": 19,
   "metadata": {},
   "outputs": [
    {
     "data": {
      "text/plain": [
       "832186.025"
      ]
     },
     "execution_count": 19,
     "metadata": {},
     "output_type": "execute_result"
    }
   ],
   "source": [
    "55/100 * 1513065.5"
   ]
  },
  {
   "cell_type": "markdown",
   "metadata": {},
   "source": [
    "The Total Cost is therefore: 832186.025"
   ]
  },
  {
   "cell_type": "markdown",
   "metadata": {},
   "source": [
    "## Qn. On average, how much were female patients between the ages of 18-35 (including 35 year-olds) invoiced per visit in 2019?"
   ]
  },
  {
   "cell_type": "code",
   "execution_count": 20,
   "metadata": {},
   "outputs": [],
   "source": [
    "total_females = df1[df1.Gender == \"Female\"]"
   ]
  },
  {
   "cell_type": "markdown",
   "metadata": {},
   "source": [
    "##### filter to get ages between 18 and 35"
   ]
  },
  {
   "cell_type": "code",
   "execution_count": 21,
   "metadata": {},
   "outputs": [],
   "source": [
    "middle_aged_females = total_females[(total_females['Age'] >= 18) & (total_females['Age'] <= 35)]"
   ]
  },
  {
   "cell_type": "markdown",
   "metadata": {},
   "source": [
    "##### The average invoice total for the females"
   ]
  },
  {
   "cell_type": "code",
   "execution_count": 22,
   "metadata": {},
   "outputs": [
    {
     "data": {
      "text/html": [
       "<div>\n",
       "<style scoped>\n",
       "    .dataframe tbody tr th:only-of-type {\n",
       "        vertical-align: middle;\n",
       "    }\n",
       "\n",
       "    .dataframe tbody tr th {\n",
       "        vertical-align: top;\n",
       "    }\n",
       "\n",
       "    .dataframe thead th {\n",
       "        text-align: right;\n",
       "    }\n",
       "</style>\n",
       "<table border=\"1\" class=\"dataframe\">\n",
       "  <thead>\n",
       "    <tr style=\"text-align: right;\">\n",
       "      <th></th>\n",
       "      <th>InvoiceTotal</th>\n",
       "      <th>Age</th>\n",
       "    </tr>\n",
       "  </thead>\n",
       "  <tbody>\n",
       "    <tr>\n",
       "      <th>count</th>\n",
       "      <td>11536.000000</td>\n",
       "      <td>11536.000000</td>\n",
       "    </tr>\n",
       "    <tr>\n",
       "      <th>mean</th>\n",
       "      <td>1076.010587</td>\n",
       "      <td>25.046897</td>\n",
       "    </tr>\n",
       "    <tr>\n",
       "      <th>std</th>\n",
       "      <td>1374.726930</td>\n",
       "      <td>5.097316</td>\n",
       "    </tr>\n",
       "    <tr>\n",
       "      <th>min</th>\n",
       "      <td>0.000000</td>\n",
       "      <td>18.000000</td>\n",
       "    </tr>\n",
       "    <tr>\n",
       "      <th>25%</th>\n",
       "      <td>200.000000</td>\n",
       "      <td>21.000000</td>\n",
       "    </tr>\n",
       "    <tr>\n",
       "      <th>50%</th>\n",
       "      <td>600.000000</td>\n",
       "      <td>25.000000</td>\n",
       "    </tr>\n",
       "    <tr>\n",
       "      <th>75%</th>\n",
       "      <td>1500.000000</td>\n",
       "      <td>29.000000</td>\n",
       "    </tr>\n",
       "    <tr>\n",
       "      <th>max</th>\n",
       "      <td>26600.000000</td>\n",
       "      <td>35.000000</td>\n",
       "    </tr>\n",
       "  </tbody>\n",
       "</table>\n",
       "</div>"
      ],
      "text/plain": [
       "       InvoiceTotal           Age\n",
       "count  11536.000000  11536.000000\n",
       "mean    1076.010587     25.046897\n",
       "std     1374.726930      5.097316\n",
       "min        0.000000     18.000000\n",
       "25%      200.000000     21.000000\n",
       "50%      600.000000     25.000000\n",
       "75%     1500.000000     29.000000\n",
       "max    26600.000000     35.000000"
      ]
     },
     "execution_count": 22,
     "metadata": {},
     "output_type": "execute_result"
    }
   ],
   "source": [
    "middle_aged_females.describe()"
   ]
  },
  {
   "cell_type": "markdown",
   "metadata": {},
   "source": [
    "On Average Females between 18 and 35 years were invoiced: 1076"
   ]
  },
  {
   "cell_type": "markdown",
   "metadata": {},
   "source": [
    "## What percentage of visits are by female children between the ages of 0-5 (including 5 year-olds) in 2019?"
   ]
  },
  {
   "cell_type": "code",
   "execution_count": 23,
   "metadata": {},
   "outputs": [],
   "source": [
    "total_females = df1[df1.Gender == \"Female\"]"
   ]
  },
  {
   "cell_type": "markdown",
   "metadata": {},
   "source": [
    "##### The total number of females"
   ]
  },
  {
   "cell_type": "code",
   "execution_count": 24,
   "metadata": {},
   "outputs": [
    {
     "data": {
      "text/plain": [
       "44058"
      ]
     },
     "execution_count": 24,
     "metadata": {},
     "output_type": "execute_result"
    }
   ],
   "source": [
    "len(total_females)"
   ]
  },
  {
   "cell_type": "markdown",
   "metadata": {},
   "source": [
    "##### Filter to get the female children between 0 and 5yrs"
   ]
  },
  {
   "cell_type": "code",
   "execution_count": 25,
   "metadata": {},
   "outputs": [],
   "source": [
    "children = total_females[(total_females['Age'] >= 0) & (total_females['Age'] <= 5)]"
   ]
  },
  {
   "cell_type": "code",
   "execution_count": 26,
   "metadata": {
    "scrolled": true
   },
   "outputs": [
    {
     "data": {
      "text/html": [
       "<div>\n",
       "<style scoped>\n",
       "    .dataframe tbody tr th:only-of-type {\n",
       "        vertical-align: middle;\n",
       "    }\n",
       "\n",
       "    .dataframe tbody tr th {\n",
       "        vertical-align: top;\n",
       "    }\n",
       "\n",
       "    .dataframe thead th {\n",
       "        text-align: right;\n",
       "    }\n",
       "</style>\n",
       "<table border=\"1\" class=\"dataframe\">\n",
       "  <thead>\n",
       "    <tr style=\"text-align: right;\">\n",
       "      <th></th>\n",
       "      <th>VisitDate</th>\n",
       "      <th>PatientId</th>\n",
       "      <th>Location</th>\n",
       "      <th>Payor</th>\n",
       "      <th>InvoiceTotal</th>\n",
       "      <th>DateOfBirth</th>\n",
       "      <th>Gender</th>\n",
       "      <th>Age</th>\n",
       "    </tr>\n",
       "  </thead>\n",
       "  <tbody>\n",
       "    <tr>\n",
       "      <th>11099</th>\n",
       "      <td>2019-11-01</td>\n",
       "      <td>PAT12082</td>\n",
       "      <td>Embakasi</td>\n",
       "      <td>CIC Photocard</td>\n",
       "      <td>1980.0</td>\n",
       "      <td>2016-04-13</td>\n",
       "      <td>Female</td>\n",
       "      <td>4</td>\n",
       "    </tr>\n",
       "    <tr>\n",
       "      <th>3569</th>\n",
       "      <td>2019-08-20</td>\n",
       "      <td>PAT23240</td>\n",
       "      <td>Githurai 45</td>\n",
       "      <td>Madison</td>\n",
       "      <td>3308.0</td>\n",
       "      <td>2018-08-27</td>\n",
       "      <td>Female</td>\n",
       "      <td>2</td>\n",
       "    </tr>\n",
       "    <tr>\n",
       "      <th>794</th>\n",
       "      <td>2019-04-14</td>\n",
       "      <td>PAT11580</td>\n",
       "      <td>Embakasi</td>\n",
       "      <td>Cash</td>\n",
       "      <td>1450.0</td>\n",
       "      <td>2019-01-27</td>\n",
       "      <td>Female</td>\n",
       "      <td>2</td>\n",
       "    </tr>\n",
       "    <tr>\n",
       "      <th>4643</th>\n",
       "      <td>2019-06-30</td>\n",
       "      <td>PAT22643</td>\n",
       "      <td>Umoja</td>\n",
       "      <td>Cash</td>\n",
       "      <td>490.0</td>\n",
       "      <td>2018-03-08</td>\n",
       "      <td>Female</td>\n",
       "      <td>2</td>\n",
       "    </tr>\n",
       "    <tr>\n",
       "      <th>3215</th>\n",
       "      <td>2019-05-20</td>\n",
       "      <td>PAT18420</td>\n",
       "      <td>Tassia</td>\n",
       "      <td>Cash</td>\n",
       "      <td>150.0</td>\n",
       "      <td>2018-07-03</td>\n",
       "      <td>Female</td>\n",
       "      <td>2</td>\n",
       "    </tr>\n",
       "    <tr>\n",
       "      <th>8899</th>\n",
       "      <td>2019-07-22</td>\n",
       "      <td>PAT16134</td>\n",
       "      <td>Huruma</td>\n",
       "      <td>Resolution</td>\n",
       "      <td>3626.0</td>\n",
       "      <td>2016-10-05</td>\n",
       "      <td>Female</td>\n",
       "      <td>4</td>\n",
       "    </tr>\n",
       "    <tr>\n",
       "      <th>8157</th>\n",
       "      <td>2019-02-04</td>\n",
       "      <td>PAT22639</td>\n",
       "      <td>Githurai 44</td>\n",
       "      <td>Cash</td>\n",
       "      <td>300.0</td>\n",
       "      <td>2016-07-21</td>\n",
       "      <td>Female</td>\n",
       "      <td>4</td>\n",
       "    </tr>\n",
       "    <tr>\n",
       "      <th>12343</th>\n",
       "      <td>2019-03-29</td>\n",
       "      <td>PAT10550</td>\n",
       "      <td>Huruma</td>\n",
       "      <td>CIC Photocard</td>\n",
       "      <td>1180.0</td>\n",
       "      <td>2015-03-27</td>\n",
       "      <td>Female</td>\n",
       "      <td>5</td>\n",
       "    </tr>\n",
       "    <tr>\n",
       "      <th>6894</th>\n",
       "      <td>2019-08-14</td>\n",
       "      <td>PAT15845</td>\n",
       "      <td>Kahawa West</td>\n",
       "      <td>Cash</td>\n",
       "      <td>450.0</td>\n",
       "      <td>2017-07-10</td>\n",
       "      <td>Female</td>\n",
       "      <td>3</td>\n",
       "    </tr>\n",
       "    <tr>\n",
       "      <th>912</th>\n",
       "      <td>2019-07-04</td>\n",
       "      <td>PAT15990</td>\n",
       "      <td>Huruma</td>\n",
       "      <td>Cash</td>\n",
       "      <td>560.0</td>\n",
       "      <td>2019-04-06</td>\n",
       "      <td>Female</td>\n",
       "      <td>1</td>\n",
       "    </tr>\n",
       "  </tbody>\n",
       "</table>\n",
       "</div>"
      ],
      "text/plain": [
       "       VisitDate PatientId     Location          Payor  InvoiceTotal  \\\n",
       "11099 2019-11-01  PAT12082     Embakasi  CIC Photocard        1980.0   \n",
       "3569  2019-08-20  PAT23240  Githurai 45        Madison        3308.0   \n",
       "794   2019-04-14  PAT11580     Embakasi           Cash        1450.0   \n",
       "4643  2019-06-30  PAT22643        Umoja           Cash         490.0   \n",
       "3215  2019-05-20  PAT18420       Tassia           Cash         150.0   \n",
       "8899  2019-07-22  PAT16134       Huruma     Resolution        3626.0   \n",
       "8157  2019-02-04  PAT22639  Githurai 44           Cash         300.0   \n",
       "12343 2019-03-29  PAT10550       Huruma  CIC Photocard        1180.0   \n",
       "6894  2019-08-14  PAT15845  Kahawa West           Cash         450.0   \n",
       "912   2019-07-04  PAT15990       Huruma           Cash         560.0   \n",
       "\n",
       "      DateOfBirth  Gender  Age  \n",
       "11099  2016-04-13  Female    4  \n",
       "3569   2018-08-27  Female    2  \n",
       "794    2019-01-27  Female    2  \n",
       "4643   2018-03-08  Female    2  \n",
       "3215   2018-07-03  Female    2  \n",
       "8899   2016-10-05  Female    4  \n",
       "8157   2016-07-21  Female    4  \n",
       "12343  2015-03-27  Female    5  \n",
       "6894   2017-07-10  Female    3  \n",
       "912    2019-04-06  Female    1  "
      ]
     },
     "execution_count": 26,
     "metadata": {},
     "output_type": "execute_result"
    }
   ],
   "source": [
    "children.sample(10)"
   ]
  },
  {
   "cell_type": "markdown",
   "metadata": {},
   "source": [
    "##### Percentage of Female Children"
   ]
  },
  {
   "cell_type": "code",
   "execution_count": 27,
   "metadata": {},
   "outputs": [
    {
     "data": {
      "text/plain": [
       "17.1660084434155"
      ]
     },
     "execution_count": 27,
     "metadata": {},
     "output_type": "execute_result"
    }
   ],
   "source": [
    "(len(children)/len(total_females)) * 100"
   ]
  },
  {
   "cell_type": "markdown",
   "metadata": {},
   "source": [
    "The percentage visits by female children is 17.16%"
   ]
  },
  {
   "cell_type": "markdown",
   "metadata": {},
   "source": [
    "##### Please consider the following hypothetical scenario (you may need to research the meaning of the healthcare terms used):\n",
    "\n",
    "We are involved in a capitation agreement with one private company (Sunshine Ltd.), where we provide medical care to their employees based on a capitated fee. Another company, TechLab Ltd., also want to go into a capitation agreement with us in order to provide healthcare to their employees. \n",
    "\n",
    "Sunshine Ltd. is paying us Sh2000 per person per year, and have 200 people signed up on the scheme with us. \n",
    "TechLab Ltd. are offering us Sh1500 per person per year, and have 500 people that they would like to sign up with us.\n",
    "\n",
    "Please use the data provided to evaluate TechLab Ltd.’s proposal, and answer the following questions.\n",
    "\n",
    "Remember to round all answers down to the nearest integer."
   ]
  },
  {
   "cell_type": "markdown",
   "metadata": {},
   "source": [
    "### How much revenue could we expect to make from TechLab Ltd.’s offer in a one year period? *"
   ]
  },
  {
   "cell_type": "code",
   "execution_count": 28,
   "metadata": {},
   "outputs": [
    {
     "data": {
      "text/plain": [
       "750000"
      ]
     },
     "execution_count": 28,
     "metadata": {},
     "output_type": "execute_result"
    }
   ],
   "source": [
    "1500*500"
   ]
  },
  {
   "cell_type": "markdown",
   "metadata": {},
   "source": [
    "### How many times can we expect TechLab Ltd.’s employees to visit us in a one year period if we accept their offer? "
   ]
  },
  {
   "cell_type": "code",
   "execution_count": 29,
   "metadata": {},
   "outputs": [
    {
     "data": {
      "text/plain": [
       "array(['Cash', 'CIC Corporate', 'CIC Photocard', 'Resolution', 'Madison',\n",
       "       'AON', 'Britam', 'Sunshine Ltd.', 'UAP', 'Jubilee'], dtype=object)"
      ]
     },
     "execution_count": 29,
     "metadata": {},
     "output_type": "execute_result"
    }
   ],
   "source": [
    "df1.Payor.unique()"
   ]
  },
  {
   "cell_type": "code",
   "execution_count": 30,
   "metadata": {},
   "outputs": [],
   "source": [
    "sunshine_count = df1[df1.Payor == \"Sunshine Ltd.\"]"
   ]
  },
  {
   "cell_type": "code",
   "execution_count": 31,
   "metadata": {},
   "outputs": [
    {
     "data": {
      "text/plain": [
       "226"
      ]
     },
     "execution_count": 31,
     "metadata": {},
     "output_type": "execute_result"
    }
   ],
   "source": [
    "len(sunshine_count)"
   ]
  },
  {
   "cell_type": "code",
   "execution_count": 32,
   "metadata": {},
   "outputs": [
    {
     "data": {
      "text/plain": [
       "112.99999999999999"
      ]
     },
     "execution_count": 32,
     "metadata": {},
     "output_type": "execute_result"
    }
   ],
   "source": [
    "(226/200)*100"
   ]
  },
  {
   "cell_type": "code",
   "execution_count": 33,
   "metadata": {},
   "outputs": [
    {
     "data": {
      "text/plain": [
       "565.0"
      ]
     },
     "execution_count": 33,
     "metadata": {},
     "output_type": "execute_result"
    }
   ],
   "source": [
    "(113/100) * 500"
   ]
  },
  {
   "cell_type": "markdown",
   "metadata": {},
   "source": [
    "### How much profit or loss do you expect Penda would make should Penda accept Techlab Ltd.’s offer? (If you expect a loss, express it as a negative integer.)"
   ]
  },
  {
   "cell_type": "code",
   "execution_count": 34,
   "metadata": {},
   "outputs": [
    {
     "data": {
      "text/plain": [
       "422245.82344509667"
      ]
     },
     "execution_count": 34,
     "metadata": {},
     "output_type": "execute_result"
    }
   ],
   "source": [
    "750000 - (55/100 * (565*1054.7197958323518))"
   ]
  },
  {
   "cell_type": "markdown",
   "metadata": {},
   "source": [
    "### Using the data provided, estimate the total cost to Penda for the visits from TechLab Ltd. over a one year period. Assume that all non-capitation visits have a gross margin of 45%, and that capitation visits access a similar range of services – in other words, assume that capitation visits cost Penda the same amount as non-capitation visits on average."
   ]
  },
  {
   "cell_type": "code",
   "execution_count": 35,
   "metadata": {},
   "outputs": [
    {
     "data": {
      "text/plain": [
       "1054.7197958323518"
      ]
     },
     "execution_count": 35,
     "metadata": {},
     "output_type": "execute_result"
    }
   ],
   "source": [
    "df1.InvoiceTotal.mean()"
   ]
  },
  {
   "cell_type": "code",
   "execution_count": 36,
   "metadata": {},
   "outputs": [
    {
     "data": {
      "text/plain": [
       "327754.17655490333"
      ]
     },
     "execution_count": 36,
     "metadata": {},
     "output_type": "execute_result"
    }
   ],
   "source": [
    "55/100 * (565*1054.7197958323518)"
   ]
  },
  {
   "cell_type": "markdown",
   "metadata": {},
   "source": [
    "One risk with capitation schemes is that we may experience cannibalization – in other words, some of the patients on the capitation scheme may have already been using Penda Health for medical services, and will now move over to the capitated scheme rather than paying us for services accessed. \n",
    "\n",
    "For example, if patient with unique PatientID PAT123456 previously payed cash for medical services, and visited Penda Health on average twice a year, with an average bill size of Sh700, and this patient is now placed on a capitated scheme by their employer, they will now have the option to visit Penda Health as many times as they would like without paying at all. \n",
    "\n",
    "Given the above, it is important for us to understand the effect of cannibalization when we consider capitation agreements.\n",
    "\n",
    "Remember to round down all answers to the nearest integer"
   ]
  },
  {
   "cell_type": "markdown",
   "metadata": {},
   "source": [
    "### Qn. How many Sunshine Ltd. patients also visited Penda Health under a different payor? Give the number of unique patients, not the number of visits. "
   ]
  },
  {
   "cell_type": "markdown",
   "metadata": {},
   "source": [
    "##### Find the Patients who visited Penda Health under Sunshine Ltd."
   ]
  },
  {
   "cell_type": "code",
   "execution_count": 37,
   "metadata": {},
   "outputs": [],
   "source": [
    "#Under Sunshine Payor\n",
    "sunshine_count = df1[df1.Payor == \"Sunshine Ltd.\"]"
   ]
  },
  {
   "cell_type": "markdown",
   "metadata": {},
   "source": [
    "##### Filter to find which PatientId under a different payor matches the one under the Sunshine payor"
   ]
  },
  {
   "cell_type": "code",
   "execution_count": 38,
   "metadata": {},
   "outputs": [],
   "source": [
    "#Other Payor Excluding Sunshine Ltd\n",
    "other_payor = df1[df1.Payor.isin([\"Cash\",\"CIC Corporate\",'CIC Photocard','Resolution','Madison','AON',\n",
    "                    'Britam','UAP','Jubilee'])]"
   ]
  },
  {
   "cell_type": "code",
   "execution_count": 39,
   "metadata": {},
   "outputs": [
    {
     "name": "stdout",
     "output_type": "stream",
     "text": [
      "229\n"
     ]
    }
   ],
   "source": [
    "# Find the columns with matching patientId To find the total number of visits\n",
    "'''\n",
    "merged_df = pd.DatFrame()\n",
    "for i in sunshine_count.PatientId:\n",
    "    for j in other_payor.PatientId:\n",
    "        if i == j:\n",
    "            merged_id.append(j)\n",
    "len(patientId)\n",
    "'''\n",
    "df_merged = sunshine_count.merge(\n",
    "    other_payor,\n",
    "    on='PatientId',\n",
    "    suffixes=('_sunshine_count', '')\n",
    "    )\n",
    "print(len(df_merged))"
   ]
  },
  {
   "cell_type": "code",
   "execution_count": 40,
   "metadata": {},
   "outputs": [
    {
     "name": "stdout",
     "output_type": "stream",
     "text": [
      "40\n"
     ]
    }
   ],
   "source": [
    "# Find the unique PatientId's from the dataset. \n",
    "'''\n",
    "num_of_unque_patients = []\n",
    "for i in patientId:\n",
    "    if i not in num_of_unque_patients:\n",
    "        num_of_unque_patients.append(i)\n",
    "len(num_of_unque_patients)\n",
    "'''\n",
    "print(len(df_merged.PatientId.unique()))"
   ]
  },
  {
   "cell_type": "markdown",
   "metadata": {},
   "source": [
    "The Number of Patients is: 40"
   ]
  },
  {
   "cell_type": "markdown",
   "metadata": {},
   "source": [
    "### If the non-Sunshine Ltd. visits for these patients had been billed under Sunshine Ltd. instead, how much revenue would Penda have lost? *"
   ]
  },
  {
   "cell_type": "code",
   "execution_count": 41,
   "metadata": {},
   "outputs": [
    {
     "data": {
      "text/plain": [
       "219196.9"
      ]
     },
     "execution_count": 41,
     "metadata": {},
     "output_type": "execute_result"
    }
   ],
   "source": [
    "# df1\n",
    "df_merged.InvoiceTotal.sum()"
   ]
  },
  {
   "cell_type": "markdown",
   "metadata": {},
   "source": [
    "### If you assume that 50% of visits from Sunshine Ltd. in 2019 would have occurred anyway even if Penda had not accepted the capitation agreement with Sunshine Ltd., and that these visits would have had an average invoice amount equal to that of cash visits, how much revenue Penda would have made from these visits?"
   ]
  },
  {
   "cell_type": "code",
   "execution_count": 42,
   "metadata": {},
   "outputs": [],
   "source": [
    "#Under Sunshine Payor\n",
    "sunshine_count = df1[df1.Payor == \"Sunshine Ltd.\"]"
   ]
  },
  {
   "cell_type": "code",
   "execution_count": 43,
   "metadata": {},
   "outputs": [],
   "source": [
    "# Average of Cash payments \n",
    "total_Cash_count = df1[df1.Payor == \"Cash\"]"
   ]
  },
  {
   "cell_type": "code",
   "execution_count": 44,
   "metadata": {},
   "outputs": [
    {
     "data": {
      "text/plain": [
       "617.0608034046772"
      ]
     },
     "execution_count": 44,
     "metadata": {},
     "output_type": "execute_result"
    }
   ],
   "source": [
    "total_Cash_count.InvoiceTotal.mean()"
   ]
  },
  {
   "cell_type": "code",
   "execution_count": 45,
   "metadata": {},
   "outputs": [
    {
     "data": {
      "text/plain": [
       "113.0"
      ]
     },
     "execution_count": 45,
     "metadata": {},
     "output_type": "execute_result"
    }
   ],
   "source": [
    "50/100 * len(sunshine_count) "
   ]
  },
  {
   "cell_type": "code",
   "execution_count": 46,
   "metadata": {},
   "outputs": [
    {
     "data": {
      "text/plain": [
       "69727.87078472853"
      ]
     },
     "execution_count": 46,
     "metadata": {},
     "output_type": "execute_result"
    }
   ],
   "source": [
    "113.0 * (total_Cash_count.InvoiceTotal.mean())"
   ]
  },
  {
   "cell_type": "markdown",
   "metadata": {},
   "source": [
    "### What was the gross margin for the Sunshine Ltd. scheme in 2019? Again, assume that capitation visits utilize similar services to non-capitation visits (and so have the same average cost), and that non-capitation visits have a gross margin of 45%."
   ]
  },
  {
   "cell_type": "code",
   "execution_count": 47,
   "metadata": {},
   "outputs": [
    {
     "data": {
      "text/plain": [
       "1540.0"
      ]
     },
     "execution_count": 47,
     "metadata": {},
     "output_type": "execute_result"
    }
   ],
   "source": [
    "sunshine_count.InvoiceTotal.sum()"
   ]
  },
  {
   "cell_type": "code",
   "execution_count": 48,
   "metadata": {},
   "outputs": [
    {
     "data": {
      "text/plain": [
       "226"
      ]
     },
     "execution_count": 48,
     "metadata": {},
     "output_type": "execute_result"
    }
   ],
   "source": [
    "len(sunshine_count)"
   ]
  },
  {
   "cell_type": "code",
   "execution_count": 49,
   "metadata": {},
   "outputs": [
    {
     "data": {
      "text/plain": [
       "156618.0"
      ]
     },
     "execution_count": 49,
     "metadata": {},
     "output_type": "execute_result"
    }
   ],
   "source": [
    "45/100 *(1540 * 226)"
   ]
  }
 ],
 "metadata": {
  "kernelspec": {
   "display_name": "Python 3",
   "language": "python",
   "name": "python3"
  },
  "language_info": {
   "codemirror_mode": {
    "name": "ipython",
    "version": 3
   },
   "file_extension": ".py",
   "mimetype": "text/x-python",
   "name": "python",
   "nbconvert_exporter": "python",
   "pygments_lexer": "ipython3",
   "version": "3.8.3"
  }
 },
 "nbformat": 4,
 "nbformat_minor": 4
}
